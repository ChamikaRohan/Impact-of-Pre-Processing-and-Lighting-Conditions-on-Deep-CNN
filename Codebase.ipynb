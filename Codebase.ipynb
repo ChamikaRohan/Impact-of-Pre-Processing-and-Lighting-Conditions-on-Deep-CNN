{
 "cells": [
  {
   "cell_type": "markdown",
   "id": "86c8b22f",
   "metadata": {},
   "source": [
    "# Download the exported model (InceptionV3-based-Image-classifier-with-TransferLearning
 branch)"
   ]
  },
  {
   "cell_type": "code",
   "execution_count": null,
   "id": "9d0edc2b",
   "metadata": {},
   "outputs": [],
   "source": [
    "import gdown\n",
    "import os\n",
    "\n",
    "# URL of the file to be downloaded\n",
    "url = \"https://drive.google.com/uc?id=1pw6aJU8vZrKKcXgv5SqPPsqD5gIFE67E\"\n",
    "\n",
    "os.makedirs('Basemodel', exist_ok=True)\n",
    "output = \"Basemodel/Basemodel.h5\"\n",
    "\n",
    "# Downloading the file\n",
    "gdown.download(url, output, quiet=False)"
   ]
  },
  {
   "cell_type": "markdown",
   "id": "3c1ecf18",
   "metadata": {},
   "source": [
    "# Download the the videos from Google Drive"
   ]
  },
  {
   "cell_type": "code",
   "execution_count": null,
   "id": "10aa1b13",
   "metadata": {},
   "outputs": [],
   "source": [
    "import os\n",
    "import gdown"
   ]
  },
  {
   "cell_type": "code",
   "execution_count": null,
   "id": "e10a65aa",
   "metadata": {},
   "outputs": [],
   "source": [
    "#List of Google Drive links for Dog videos\n",
    "dog_links = [\n",
    "    'https://drive.google.com/uc?id=17OxwuQnfxGaaNPbP-5ckLhn7GYZdqBou',\n",
    "    'https://drive.google.com/uc?id=1rxughH4146Sjtls0MWQII1NF2pWkq-Md',\n",
    "    'https://drive.google.com/uc?id=1E1zzMapXYsLuSjuTaA0M8SEBs2WrKWJZ',\n",
    "    'https://drive.google.com/uc?id=15W8GnX1Jw81dKa5AhUpxlcs1ADU-D-Fc',\n",
    "    'https://drive.google.com/uc?id=1aiBS-W5FyMJcYKgDdknF559m8kRA-H8r'\n",
    "]\n",
    "\n",
    "#Create the dog directory to store videos\n",
    "os.makedirs('Videos/Dog', exist_ok=True)\n",
    "\n",
    "for i, url in enumerate(dog_links, start=1):\n",
    "    output = f'Videos/Dog/video_{i}.mp4'\n",
    "    print(f'Downloading {output}...')\n",
    "    gdown.download(url, output, quiet=False)\n",
    "\n",
    "print('All Dog videos have been downloaded')"
   ]
  },
  {
   "cell_type": "code",
   "execution_count": null,
   "id": "91f434e0",
   "metadata": {},
   "outputs": [],
   "source": [
    "#List of Google Drive links for Rabbit videos\n",
    "rabbit_links = [\n",
    "    'https://drive.google.com/uc?id=1_NYlLo4p8e90_8SHSGsRdHYgeeBpmeGQ',\n",
    "    'https://drive.google.com/uc?id=1-7a567ElUxhLwhzfF1i0bJon4DdNYpXA',\n",
    "    'https://drive.google.com/uc?id=1bC0_j4vIiFGqhE39SXBSSVE0204u5d6x',\n",
    "    'https://drive.google.com/uc?id=1L1pD26NXUoVSGAj8CBVRFkYqwTF1Ljcq',\n",
    "    'https://drive.google.com/uc?id=1i5P0cPpIj8bKW-8PUHk7N5utJJUr3tTm'\n",
    "]\n",
    "\n",
    "#Create the rabbit directory to store videos\n",
    "os.makedirs('Videos/Rabbit', exist_ok=True)\n",
    "\n",
    "for i, url in enumerate(rabbit_links, start=1):\n",
    "    output = f'Videos/Rabbit/video_{i}.mp4'\n",
    "    print(f'Downloading {output}...')\n",
    "    gdown.download(url, output, quiet=False)\n",
    "\n",
    "print('All Rabbit videos have been downloaded')"
   ]
  },
  {
   "cell_type": "markdown",
   "id": "73a91524",
   "metadata": {},
   "source": [
    "# Video Decomposition"
   ]
  },
  {
   "cell_type": "markdown",
   "id": "3b8519fd",
   "metadata": {},
   "source": [
    "## Loading the video paths and defining the frame count"
   ]
  },
  {
   "cell_type": "code",
   "execution_count": 6,
   "id": "d4817410",
   "metadata": {},
   "outputs": [],
   "source": [
    "import cv2\n",
    "import os\n",
    "\n",
    "Object_1 = \"Dog\"\n",
    "Object_2 = \"Rabbit\"\n",
    "\n",
    "current_directory = os.getcwd() \n",
    "\n",
    "#Path to the directory containing the videos\n",
    "videos_dir = current_directory + \"\\Videos\"\n",
    "\n",
    "#Path to the directory to save the frames\n",
    "frames_dir = current_directory + \"\\Frames\"\n",
    "\n",
    "#Path to Dog folder\n",
    "Dog_dataset =  frames_dir + \"\\\\Dog\"\n",
    "\n",
    "#Path to Rabbit folder\n",
    "Cat_dataset =  frames_dir + \"\\\\Rabbit\"\n",
    "\n",
    "#Target number of frames per video\n",
    "target_frames = 300"
   ]
  },
  {
   "cell_type": "markdown",
   "id": "f90dee1f",
   "metadata": {},
   "source": [
    "## Decomposing the videos and storing images "
   ]
  },
  {
   "cell_type": "code",
   "execution_count": 7,
   "id": "14c7d99f",
   "metadata": {},
   "outputs": [
    {
     "name": "stdout",
     "output_type": "stream",
     "text": [
      "Processing videos in subfolder: Dog\n",
      "Processing videos in subfolder: Rabbit\n",
      "Video decomposition completed\n"
     ]
    }
   ],
   "source": [
    "#Iterate over each subfolder in the main directory\n",
    "for subfolder in os.listdir(videos_dir):\n",
    "    subfolder_path = os.path.join(videos_dir, subfolder)\n",
    "\n",
    "    if os.path.isdir(subfolder_path):\n",
    "        print(f\"Processing videos in subfolder: {subfolder}\")\n",
    "        \n",
    "        #Create Object_1 and Object_2 folders inside frames directory\n",
    "        frames_object_1 = os.path.join(frames_dir, Object_1)\n",
    "        frames_object_2 = os.path.join(frames_dir, Object_2)\n",
    "        os.makedirs(frames_object_1, exist_ok=True)\n",
    "        os.makedirs(frames_object_2, exist_ok=True)\n",
    "        \n",
    "        #Iterate over each video file in the subfolder\n",
    "        for video_file in os.listdir(subfolder_path):\n",
    "            if video_file.endswith(\".mp4\"): \n",
    "                video_path = os.path.join(subfolder_path, video_file)\n",
    "                video_name = os.path.splitext(video_file)[0]\n",
    "                \n",
    "                if subfolder == Object_1:\n",
    "                    frames_folder = frames_object_1\n",
    "                elif subfolder == Object_2:\n",
    "                    frames_folder = frames_object_2\n",
    "                else:\n",
    "                    continue \n",
    "                \n",
    "                video_capture = cv2.VideoCapture(video_path)\n",
    "                total_frames = int(video_capture.get(cv2.CAP_PROP_FRAME_COUNT))\n",
    "                fps = int(video_capture.get(cv2.CAP_PROP_FPS))\n",
    "                \n",
    "                #Calculate frame extraction interval\n",
    "                frame_interval = max(total_frames // target_frames, 1)  # Avoid division by zero\n",
    "                \n",
    "                #Extract the frames\n",
    "                frame_count = 0\n",
    "                extracted_frames = 0\n",
    "                while True:\n",
    "                    ret, frame = video_capture.read()\n",
    "                    if not ret:\n",
    "                        break\n",
    "                    frame_count += 1\n",
    "                    if frame_count % frame_interval == 0:\n",
    "                        extracted_frames += 1\n",
    "                        frame_filename = f\"{subfolder}_{video_name}_frame_{extracted_frames}.jpg\"\n",
    "                        frame_path = os.path.join(frames_folder, frame_filename)\n",
    "                        cv2.imwrite(frame_path, frame)\n",
    "                        if extracted_frames == target_frames:\n",
    "                            break\n",
    "                video_capture.release()\n",
    "\n",
    "print(\"Video decomposition completed\")"
   ]
  },
  {
   "cell_type": "markdown",
   "id": "0093c07f",
   "metadata": {},
   "source": [
    "## Renaming the dataset"
   ]
  },
  {
   "cell_type": "code",
   "execution_count": 8,
   "id": "aa02d3c1",
   "metadata": {},
   "outputs": [
    {
     "name": "stdout",
     "output_type": "stream",
     "text": [
      "Video renaming completed\n"
     ]
    }
   ],
   "source": [
    "def rename_images(folder_path):\n",
    "    images = os.listdir(folder_path)\n",
    "    for i, image_name in enumerate(images, start=1):\n",
    "        old_path = os.path.join(folder_path, image_name)\n",
    "        new_name = f\"{i}.jpg\"  # Change the extension if necessary\n",
    "        new_path = os.path.join(folder_path, new_name)\n",
    "        # Check if the new name already exists, if so, increment i until a unique name is found\n",
    "        while os.path.exists(new_path):\n",
    "            i += 1\n",
    "            new_name = f\"{i}.jpg\"\n",
    "            new_path = os.path.join(folder_path, new_name)\n",
    "        os.rename(old_path, new_path)\n",
    "\n",
    "rename_images(Dog_dataset)\n",
    "rename_images(Cat_dataset)\n",
    "print(\"Video renaming completed\")"
   ]
  },
  {
   "cell_type": "markdown",
   "id": "15c98597",
   "metadata": {},
   "source": [
    "# Prepare the Dataset"
   ]
  },
  {
   "cell_type": "code",
   "execution_count": 148,
   "id": "122a6095",
   "metadata": {},
   "outputs": [],
   "source": [
    "import os\n",
    "import splitfolders\n",
    "\n",
    "#Define paths\n",
    "input_folder = frames_dir\n",
    "Dataset_path = current_directory + '\\\\Dataset'\n",
    "output_folder_splited = Dataset_path + '\\\\1_Splited_dataset'"
   ]
  },
  {
   "cell_type": "code",
   "execution_count": 127,
   "id": "3aca3e06",
   "metadata": {},
   "outputs": [
    {
     "name": "stderr",
     "output_type": "stream",
     "text": [
      "Copying files: 3000 files [00:21, 142.13 files/s]"
     ]
    },
    {
     "name": "stdout",
     "output_type": "stream",
     "text": [
      "Dataset spliting completed\n"
     ]
    },
    {
     "name": "stderr",
     "output_type": "stream",
     "text": [
      "\n"
     ]
    }
   ],
   "source": [
    "#Split the dataset into train, validation, and test sets\n",
    "splitfolders.ratio(input_folder, output=output_folder_splited, seed=42, ratio=(.8, .1, .1))\n",
    "\n",
    "print(\"Dataset spliting completed\")"
   ]
  },
  {
   "cell_type": "markdown",
   "id": "0ed5e2bf",
   "metadata": {},
   "source": [
    "### Pre-process the dataset"
   ]
  },
  {
   "cell_type": "markdown",
   "id": "b0ab126d",
   "metadata": {},
   "source": [
    "#### Remove black strips"
   ]
  },
  {
   "cell_type": "code",
   "execution_count": 149,
   "id": "7e7fbf00",
   "metadata": {},
   "outputs": [],
   "source": [
    "#Define input and output directories\n",
    "\n",
    "input_dir_before_lack_strips = output_folder_splited\n",
    "output_dir_after_black_strips = Dataset_path + '\\\\2_Removed_black_strips'"
   ]
  },
  {
   "cell_type": "code",
   "execution_count": 129,
   "id": "b95f8be9",
   "metadata": {},
   "outputs": [
    {
     "name": "stdout",
     "output_type": "stream",
     "text": [
      "No contours found in an image, Skipping it...\n",
      "Black strips removal completed\n"
     ]
    }
   ],
   "source": [
    "import cv2\n",
    "import os\n",
    "\n",
    "#Iterate through each image in the input directory\n",
    "for root, dirs, files in os.walk(input_dir_before_lack_strips):\n",
    "    rel_path = os.path.relpath(root, input_dir_before_lack_strips)\n",
    "    output_subdir = os.path.join(output_dir_after_black_strips, rel_path)\n",
    "    os.makedirs(output_subdir, exist_ok=True)\n",
    "    \n",
    "    for file in files:\n",
    "        if file.endswith(('.jpg', '.jpeg', '.png')):\n",
    "            image_path = os.path.join(root, file)\n",
    "            image = cv2.imread(image_path)\n",
    "            \n",
    "            #Convert image to grayscale\n",
    "            gray = cv2.cvtColor(image, cv2.COLOR_BGR2GRAY)\n",
    "            \n",
    "            #Threshold the grayscale image to create a binary mask\n",
    "            _, binary_mask = cv2.threshold(gray, 1, 255, cv2.THRESH_BINARY)\n",
    "            \n",
    "            #Find contours\n",
    "            contours, _ = cv2.findContours(binary_mask, cv2.RETR_EXTERNAL, cv2.CHAIN_APPROX_SIMPLE)\n",
    "            \n",
    "            #Check if contours were found\n",
    "            if contours:\n",
    "                x, y, w, h = cv2.boundingRect(max(contours, key=cv2.contourArea))\n",
    "        \n",
    "                #Crop the image using the bounding box\n",
    "                cropped_image = image[y:y+h, x:x+w]\n",
    "                \n",
    "                #Save the cropped image to the corresponding subdirectory in the output directory\n",
    "                output_path = os.path.join(output_subdir, file)\n",
    "                cv2.imwrite(output_path, cropped_image)\n",
    "                \n",
    "            else:\n",
    "                cropped_image = image\n",
    "                #If no contours found, use the original image\n",
    "                output_path = os.path.join(output_subdir, file)\n",
    "                cv2.imwrite(output_path, cropped_image)\n",
    "                print(\"No contours found in an image, Skipping it...\")\n",
    "\n",
    "print(\"Black strips removal completed\")"
   ]
  },
  {
   "cell_type": "markdown",
   "id": "ed7a000b",
   "metadata": {},
   "source": [
    "#### Resizing"
   ]
  },
  {
   "cell_type": "code",
   "execution_count": 130,
   "id": "41539e61",
   "metadata": {},
   "outputs": [],
   "source": [
    "def resize_images(input_dir, output_dir, target_resolution=(224, 224)):\n",
    "    #Iterate through each image in the input directory\n",
    "    for root, dirs, files in os.walk(input_dir):\n",
    "        #Create corresponding subdirectories in the output directory\n",
    "        rel_path = os.path.relpath(root, input_dir)\n",
    "        output_subdir = os.path.join(output_dir, rel_path)\n",
    "        os.makedirs(output_subdir, exist_ok=True)\n",
    "        \n",
    "        for file in files:\n",
    "            if file.endswith(('.jpg', '.jpeg', '.png')):\n",
    "                image_path = os.path.join(root, file)\n",
    "                image = cv2.imread(image_path)\n",
    "                \n",
    "                #Resize the image to the target resolution\n",
    "                resized_image = cv2.resize(image, target_resolution, interpolation=cv2.INTER_AREA)\n",
    "                \n",
    "                #Save the resized image to the corresponding subdirectory\n",
    "                output_path = os.path.join(output_subdir, file)\n",
    "                cv2.imwrite(output_path, resized_image)\n",
    "                \n",
    "    print(\"Resizing completed\")"
   ]
  },
  {
   "cell_type": "code",
   "execution_count": 131,
   "id": "56d7ef0b",
   "metadata": {},
   "outputs": [
    {
     "name": "stdout",
     "output_type": "stream",
     "text": [
      "Resizing completed\n"
     ]
    }
   ],
   "source": [
    "#Define input and output directories and perform resizing\n",
    "\n",
    "input_directory_before_resize = output_dir_after_black_strips\n",
    "output_directory_after_resize = Dataset_path  + '\\\\3_Resized'\n",
    "\n",
    "resize_images(input_directory_before_resize, output_directory_after_resize)"
   ]
  },
  {
   "cell_type": "code",
   "execution_count": 167,
   "id": "60d39f3e",
   "metadata": {},
   "outputs": [],
   "source": [
    "#Define the dataset path after preprocessed \n",
    "\n",
    "output_directory_after_resize = Dataset_path  + '\\\\3_Resized'\n",
    "\n",
    "train_dir = output_directory_after_resize + \"\\\\train\"\n",
    "val_dir = output_directory_after_resize + \"\\\\val\"\n",
    "test_dir = output_directory_after_resize + \"\\\\test\""
   ]
  },
  {
   "cell_type": "markdown",
   "id": "3d168450",
   "metadata": {},
   "source": [
    "# Model Development"
   ]
  },
  {
   "cell_type": "markdown",
   "id": "65012f19",
   "metadata": {},
   "source": [
    "## Base Model"
   ]
  },
  {
   "cell_type": "markdown",
   "id": "ed29dbeb",
   "metadata": {},
   "source": [
    "### Create data generators"
   ]
  },
  {
   "cell_type": "code",
   "execution_count": 168,
   "id": "f75530c6",
   "metadata": {},
   "outputs": [],
   "source": [
    "#Set batch size and image size\n",
    "batch_size = 32\n",
    "img_size = (75, 75)"
   ]
  },
  {
   "cell_type": "code",
   "execution_count": 171,
   "id": "46ff5858",
   "metadata": {},
   "outputs": [],
   "source": [
    "#Create ImageDataGenerators with only normalizing the pixel values\n",
    "\n",
    "from tensorflow.keras.preprocessing.image import ImageDataGenerator\n",
    "\n",
    "train_datagen_base = ImageDataGenerator(rescale=1./255)\n",
    "val_datagen_base = ImageDataGenerator(rescale=1./255)\n",
    "test_datagen_base = ImageDataGenerator(rescale=1./255)"
   ]
  },
  {
   "cell_type": "code",
   "execution_count": 172,
   "id": "20324765",
   "metadata": {
    "scrolled": true
   },
   "outputs": [
    {
     "name": "stdout",
     "output_type": "stream",
     "text": [
      "Found 2400 images belonging to 2 classes.\n",
      "Found 300 images belonging to 2 classes.\n",
      "Found 300 images belonging to 2 classes.\n"
     ]
    }
   ],
   "source": [
    "#Create train, validation, and test generators\n",
    "\n",
    "train_generator = train_datagen_base.flow_from_directory(\n",
    "    train_dir,\n",
    "    target_size=img_size,  \n",
    "    batch_size=batch_size,\n",
    "    class_mode='binary') \n",
    "\n",
    "val_generator = val_datagen_base.flow_from_directory(\n",
    "    val_dir,\n",
    "    target_size=img_size,\n",
    "    batch_size=batch_size,\n",
    "    class_mode='binary')\n",
    "\n",
    "test_generator = test_datagen_base.flow_from_directory(\n",
    "    test_dir,\n",
    "    target_size=img_size,\n",
    "    batch_size=batch_size,\n",
    "    class_mode='binary')"
   ]
  },
  {
   "cell_type": "markdown",
   "id": "c53f12b9",
   "metadata": {},
   "source": [
    "### Checking class names"
   ]
  },
  {
   "cell_type": "code",
   "execution_count": 173,
   "id": "a52c253d",
   "metadata": {},
   "outputs": [
    {
     "name": "stdout",
     "output_type": "stream",
     "text": [
      "{'Dog': 0, 'Rabbit': 1}\n",
      "{'Dog': 0, 'Rabbit': 1}\n",
      "{'Dog': 0, 'Rabbit': 1}\n"
     ]
    }
   ],
   "source": [
    "class_labels = train_generator.class_indices\n",
    "class_labels = val_generator.class_indices\n",
    "class_labels = test_generator.class_indices\n",
    "\n",
    "print(class_labels)\n",
    "print(class_labels)\n",
    "print(class_labels)"
   ]
  },
  {
   "cell_type": "markdown",
   "id": "050965c3",
   "metadata": {},
   "source": [
    "### Developing the model structure"
   ]
  },
  {
   "cell_type": "code",
   "execution_count": 174,
   "id": "08cf0b78",
   "metadata": {},
   "outputs": [],
   "source": [
    "#Load the pre-trained model from assignment 2\n",
    "\n",
    "from tensorflow.keras.models import load_model\n",
    "from tensorflow.keras.models import Model\n",
    "from tensorflow.keras.applications import InceptionV3\n",
    "from tensorflow.keras.layers import Dense, GlobalAveragePooling2D\n",
    "from tensorflow.keras.models import Sequential\n",
    "from tensorflow.keras.models import load_model\n",
    "\n",
    "model_path = current_directory + '\\Basemodel\\Basemodel.h5'\n",
    "\n",
    "loaded_assignment_2_model = load_model(model_path)"
   ]
  },
  {
   "cell_type": "code",
   "execution_count": 175,
   "id": "7eb0e920",
   "metadata": {},
   "outputs": [],
   "source": [
    "#Extract the base model (excluding the top layers) from the loaded model\n",
    "assignment_2_model = loaded_assignment_2_model.layers[0]\n",
    "\n",
    "#Freeze the model base\n",
    "assignment_2_model.trainable = False\n",
    "\n",
    "#Define the global average pooling layer\n",
    "global_average_layer = GlobalAveragePooling2D()"
   ]
  },
  {
   "cell_type": "code",
   "execution_count": 176,
   "id": "60fde860",
   "metadata": {},
   "outputs": [
    {
     "name": "stdout",
     "output_type": "stream",
     "text": [
      "Model: \"sequential_15\"\n",
      "_________________________________________________________________\n",
      " Layer (type)                Output Shape              Param #   \n",
      "=================================================================\n",
      " inception_v3 (Functional)   (None, 1, 1, 2048)        21802784  \n",
      "                                                                 \n",
      " global_average_pooling2d_1  (None, 2048)              0         \n",
      " 1 (GlobalAveragePooling2D)                                      \n",
      "                                                                 \n",
      " dense_17 (Dense)            (None, 1)                 2049      \n",
      "                                                                 \n",
      "=================================================================\n",
      "Total params: 21804833 (83.18 MB)\n",
      "Trainable params: 2049 (8.00 KB)\n",
      "Non-trainable params: 21802784 (83.17 MB)\n",
      "_________________________________________________________________\n"
     ]
    }
   ],
   "source": [
    "#Define the new model for classifying cats and dogs\n",
    "\n",
    "basemodel = Sequential([\n",
    "    assignment_2_model,\n",
    "    global_average_layer,\n",
    "    Dense(1, activation='sigmoid')  \n",
    "])\n",
    "\n",
    "#Compile the model\n",
    "basemodel.compile(optimizer='adam', loss='binary_crossentropy', metrics=['accuracy'])\n",
    "\n",
    "#Print model summary\n",
    "basemodel.summary()"
   ]
  },
  {
   "cell_type": "markdown",
   "id": "6787c912",
   "metadata": {},
   "source": [
    "### Train the model"
   ]
  },
  {
   "cell_type": "code",
   "execution_count": 177,
   "id": "a30155b7",
   "metadata": {
    "scrolled": true
   },
   "outputs": [
    {
     "name": "stdout",
     "output_type": "stream",
     "text": [
      "Epoch 1/10\n",
      "75/75 [==============================] - 18s 158ms/step - loss: 0.6321 - accuracy: 0.6958 - val_loss: 0.5852 - val_accuracy: 0.7600\n",
      "Epoch 2/10\n",
      "75/75 [==============================] - 9s 122ms/step - loss: 0.5665 - accuracy: 0.7588 - val_loss: 0.5517 - val_accuracy: 0.7533\n",
      "Epoch 3/10\n",
      "75/75 [==============================] - 9s 117ms/step - loss: 0.5422 - accuracy: 0.7629 - val_loss: 0.5363 - val_accuracy: 0.7767\n",
      "Epoch 4/10\n",
      "75/75 [==============================] - 9s 119ms/step - loss: 0.5284 - accuracy: 0.7742 - val_loss: 0.5265 - val_accuracy: 0.7967\n",
      "Epoch 5/10\n",
      "75/75 [==============================] - 9s 119ms/step - loss: 0.5169 - accuracy: 0.7746 - val_loss: 0.5149 - val_accuracy: 0.7900\n",
      "Epoch 6/10\n",
      "75/75 [==============================] - 9s 122ms/step - loss: 0.5078 - accuracy: 0.7767 - val_loss: 0.5073 - val_accuracy: 0.7700\n",
      "Epoch 7/10\n",
      "75/75 [==============================] - 9s 120ms/step - loss: 0.4971 - accuracy: 0.7887 - val_loss: 0.4967 - val_accuracy: 0.8000\n",
      "Epoch 8/10\n",
      "75/75 [==============================] - 9s 121ms/step - loss: 0.4884 - accuracy: 0.7892 - val_loss: 0.4878 - val_accuracy: 0.8000\n",
      "Epoch 9/10\n",
      "75/75 [==============================] - 9s 122ms/step - loss: 0.4791 - accuracy: 0.7933 - val_loss: 0.4791 - val_accuracy: 0.8067\n",
      "Epoch 10/10\n",
      "75/75 [==============================] - 10s 135ms/step - loss: 0.4707 - accuracy: 0.7992 - val_loss: 0.4713 - val_accuracy: 0.8067\n"
     ]
    },
    {
     "data": {
      "text/plain": [
       "<keras.src.callbacks.History at 0x1aea4f25710>"
      ]
     },
     "execution_count": 177,
     "metadata": {},
     "output_type": "execute_result"
    }
   ],
   "source": [
    "basemodel.fit(train_generator, epochs=10, validation_data=val_generator)"
   ]
  },
  {
   "cell_type": "markdown",
   "id": "c1437a61",
   "metadata": {},
   "source": [
    "### Test the performance of the model"
   ]
  },
  {
   "cell_type": "markdown",
   "id": "b5d47664",
   "metadata": {},
   "source": [
    "#### Accuracy"
   ]
  },
  {
   "cell_type": "code",
   "execution_count": 178,
   "id": "2d043709",
   "metadata": {},
   "outputs": [
    {
     "name": "stdout",
     "output_type": "stream",
     "text": [
      "10/10 [==============================] - 1s 137ms/step - loss: 0.4651 - accuracy: 0.8067\n",
      "Accuracy of basemodel on test set: 80.67%\n"
     ]
    }
   ],
   "source": [
    "#Evaluate the model on the test set\n",
    "loss_basemodel, accuracy_basemodel = basemodel.evaluate(test_generator)\n",
    "\n",
    "#Print the accuracy\n",
    "print(f\"Accuracy of basemodel on test set: {accuracy_basemodel * 100:.2f}%\")"
   ]
  },
  {
   "cell_type": "markdown",
   "id": "18a1c801",
   "metadata": {},
   "source": [
    "#### Confussion matrixes"
   ]
  },
  {
   "cell_type": "code",
   "execution_count": 179,
   "id": "0ec89abc",
   "metadata": {},
   "outputs": [
    {
     "name": "stdout",
     "output_type": "stream",
     "text": [
      "10/10 [==============================] - 3s 117ms/step\n"
     ]
    }
   ],
   "source": [
    "from sklearn.metrics import confusion_matrix\n",
    "import seaborn as sns\n",
    "import matplotlib.pyplot as plt\n",
    "\n",
    "predictions_basemodel_test = basemodel.predict(test_generator)\n",
    "\n",
    "y_true_test_basemodel = test_generator.classes\n",
    "\n",
    "#Convert probabilities to binary predictions\n",
    "y_pred_test_basemodel = (predictions_basemodel_test > 0.5).astype(int)  "
   ]
  },
  {
   "cell_type": "code",
   "execution_count": 180,
   "id": "f48b0651",
   "metadata": {},
   "outputs": [
    {
     "data": {
      "image/png": "[encoded data removed]",
      "text/plain": [
       "<Figure size 800x600 with 2 Axes>"
      ]
     },
     "metadata": {},
     "output_type": "display_data"
    }
   ],
   "source": [
    "#Compute confusion matrices\n",
    "conf_matrix_test = confusion_matrix(y_true_test_basemodel, y_pred_test_basemodel)\n",
    "\n",
    "#Illustrate the cofusiion metrix\n",
    "plt.figure(figsize=(8, 6))\n",
    "sns.heatmap(conf_matrix_test, annot=True, fmt='d', cmap='Blues', xticklabels=['Dog', 'Rabbit'], yticklabels=['Dog', 'Rabbit'])\n",
    "plt.xlabel('Predicted labels')\n",
    "plt.ylabel('True labels')\n",
    "plt.title('Confusion Matrix - Test Set')\n",
    "plt.show()"
   ]
  },
  {
   "cell_type": "markdown",
   "id": "34cbd181",
   "metadata": {},
   "source": [
    "## 1.Base model with pre-processing techniques"
   ]
  },
  {
   "cell_type": "markdown",
   "id": "8728628e",
   "metadata": {},
   "source": [
    "### Pre-process the dataset"
   ]
  },
  {
   "cell_type": "markdown",
   "id": "109293bd",
   "metadata": {},
   "source": [
    "#### Image sharpning"
   ]
  },
  {
   "cell_type": "code",
   "execution_count": 18,
   "id": "9cdcc65d",
   "metadata": {},
   "outputs": [
    {
     "name": "stdout",
     "output_type": "stream",
     "text": [
      "Image sharpening complete.\n"
     ]
    }
   ],
   "source": [
    "import os\n",
    "from PIL import Image, ImageFilter\n",
    "\n",
    "def image_sharpening(input_directory, output_directory):\n",
    "    #Ensure the output directory exists, create if not\n",
    "    if not os.path.exists(output_directory):\n",
    "        os.makedirs(output_directory)\n",
    "\n",
    "    for root, _, files in os.walk(input_directory):\n",
    "        for file in files:\n",
    "            input_file_path = os.path.join(root, file)\n",
    "            relative_path = os.path.relpath(input_file_path, input_directory)\n",
    "            output_file_path = os.path.join(output_directory, relative_path)\n",
    "\n",
    "            #Ensure the output directory structure exists\n",
    "            output_file_dir = os.path.dirname(output_file_path)\n",
    "            if not os.path.exists(output_file_dir):\n",
    "                os.makedirs(output_file_dir)\n",
    "\n",
    "            with Image.open(input_file_path) as img:\n",
    "                #Sharpen the image\n",
    "                sharpened_img = img.filter(ImageFilter.SHARPEN)\n",
    "\n",
    "                #Save the sharpened image to the output directory\n",
    "                sharpened_img.save(output_file_path)\n",
    "\n",
    "    print(\"Image sharpening complete.\")\n",
    "\n",
    "input_directory_before_sharpened = output_directory_after_resize\n",
    "output_directory_after_sharpened = Dataset_path  + '\\\\4_Image_sharped'\n",
    "image_sharpening(input_directory_before_sharpened, output_directory_after_sharpened)"
   ]
  },
  {
   "cell_type": "markdown",
   "id": "f16fab94",
   "metadata": {},
   "source": [
    "#### Distributing colour intensities"
   ]
  },
  {
   "cell_type": "code",
   "execution_count": 19,
   "id": "701a8019",
   "metadata": {},
   "outputs": [],
   "source": [
    "import os\n",
    "from PIL import Image, ImageEnhance\n",
    "\n",
    "def distribute_color_intensities(input_directory, output_directory, factor):\n",
    "    #Ensure the output directory exists, create if not\n",
    "    if not os.path.exists(output_directory):\n",
    "        os.makedirs(output_directory)\n",
    "\n",
    "    for root, _, files in os.walk(input_directory):\n",
    "        for file in files:\n",
    "            input_file_path = os.path.join(root, file)\n",
    "            relative_path = os.path.relpath(input_file_path, input_directory)\n",
    "            output_file_path = os.path.join(output_directory, relative_path)\n",
    "\n",
    "            #Ensure the output directory structure exists\n",
    "            output_file_dir = os.path.dirname(output_file_path)\n",
    "            if not os.path.exists(output_file_dir):\n",
    "                os.makedirs(output_file_dir)\n",
    "\n",
    "            with Image.open(input_file_path) as img:\n",
    "                #Distribute color intensities\n",
    "                enhancer = ImageEnhance.Color(img)\n",
    "                distributed_img = enhancer.enhance(factor)\n",
    "\n",
    "                #Save the distributed color intensity image to the output directory\n",
    "                distributed_img.save(output_file_path)\n",
    "\n",
    "    print(\"Color intensity distribution completed\")"
   ]
  },
  {
   "cell_type": "code",
   "execution_count": 20,
   "id": "8e289454",
   "metadata": {},
   "outputs": [
    {
     "name": "stdout",
     "output_type": "stream",
     "text": [
      "Color intensity distribution completed\n"
     ]
    }
   ],
   "source": [
    "input_directory_before_intesity_fixed = output_directory_after_sharpened\n",
    "output_directory_after_intesity_fixed = Dataset_path + '\\\\5_Distributed_Color_Intensities'\n",
    "\n",
    "intensity_factor = 1.5\n",
    "distribute_color_intensities(input_directory_before_intesity_fixed, output_directory_after_intesity_fixed, intensity_factor)"
   ]
  },
  {
   "cell_type": "markdown",
   "id": "c16d11dc",
   "metadata": {},
   "source": [
    "#### Colour Corrections"
   ]
  },
  {
   "cell_type": "code",
   "execution_count": 21,
   "id": "a823c17a",
   "metadata": {},
   "outputs": [],
   "source": [
    "def color_correction(input_directory, output_directory, brightness_factor, contrast_factor):\n",
    "    #Ensure the output directory exists, create if not\n",
    "    if not os.path.exists(output_directory):\n",
    "        os.makedirs(output_directory)\n",
    "\n",
    "    for root, _, files in os.walk(input_directory):\n",
    "        for file in files:\n",
    "            input_file_path = os.path.join(root, file)\n",
    "            relative_path = os.path.relpath(input_file_path, input_directory)\n",
    "            output_file_path = os.path.join(output_directory, relative_path)\n",
    "\n",
    "            #Ensure the output directory structure exists\n",
    "            output_file_dir = os.path.dirname(output_file_path)\n",
    "            if not os.path.exists(output_file_dir):\n",
    "                os.makedirs(output_file_dir)\n",
    "\n",
    "            with Image.open(input_file_path) as img:\n",
    "                #Apply color correction\n",
    "                enhancer = ImageEnhance.Brightness(img)\n",
    "                corrected_img = enhancer.enhance(brightness_factor)\n",
    "\n",
    "                enhancer = ImageEnhance.Contrast(corrected_img)\n",
    "                corrected_img = enhancer.enhance(contrast_factor)\n",
    "\n",
    "                #Save the color-corrected image to the output directory\n",
    "                corrected_img.save(output_file_path)\n",
    "\n",
    "    print(\"Color correction complete.\")"
   ]
  },
  {
   "cell_type": "code",
   "execution_count": 22,
   "id": "a3e9fc94",
   "metadata": {},
   "outputs": [
    {
     "name": "stdout",
     "output_type": "stream",
     "text": [
      "Color correction complete.\n"
     ]
    }
   ],
   "source": [
    "input_directory_before_color_corrected = output_directory_after_resize\n",
    "output_directory_after_color_corrected = Dataset_path + '\\\\6_Color_Corrections'\n",
    "\n",
    "brightness_factor = 1.2\n",
    "contrast_factor = 1  \n",
    "\n",
    "color_correction(input_directory_before_color_corrected, output_directory_after_color_corrected, brightness_factor, contrast_factor)"
   ]
  },
  {
   "cell_type": "code",
   "execution_count": 110,
   "id": "65c38fc8",
   "metadata": {},
   "outputs": [],
   "source": [
    "#Define the preprocessed dataset path\n",
    "\n",
    "output_directory_after_color_corrected = Dataset_path + '\\\\6_Color_Corrections'\n",
    "\n",
    "output_directory_after_preprocessed = output_directory_after_color_corrected\n",
    "train_dir = output_directory_after_preprocessed + \"\\\\train\"\n",
    "val_dir = output_directory_after_preprocessed + \"\\\\val\"\n",
    "test_dir = output_directory_after_preprocessed + \"\\\\test\""
   ]
  },
  {
   "cell_type": "markdown",
   "id": "786e7f3f",
   "metadata": {},
   "source": [
    "### Create data generators"
   ]
  },
  {
   "cell_type": "code",
   "execution_count": 111,
   "id": "bc0ba622",
   "metadata": {},
   "outputs": [],
   "source": [
    "#Create ImageDataGenerators with some data augmentations\n",
    "\n",
    "import tensorflow as tf\n",
    "from tensorflow.keras.preprocessing.image import ImageDataGenerator\n",
    "\n",
    "#Define data augmentation\n",
    "train_datagen_preprocessed = ImageDataGenerator(\n",
    "    rescale=1./255,             # Normalize pixel values to [0, 1]\n",
    "    horizontal_flip=True,       # Randomly flip images horizontally\n",
    ")\n",
    "\n",
    "val_datagen_preprocessed = ImageDataGenerator(rescale=1./255)\n",
    "test_datagen_preprocessed = ImageDataGenerator(rescale=1./255)"
   ]
  },
  {
   "cell_type": "code",
   "execution_count": 112,
   "id": "f716aa55",
   "metadata": {},
   "outputs": [
    {
     "name": "stdout",
     "output_type": "stream",
     "text": [
      "Found 2400 images belonging to 2 classes.\n",
      "Found 300 images belonging to 2 classes.\n",
      "Found 300 images belonging to 2 classes.\n"
     ]
    }
   ],
   "source": [
    "#Create train, validation, and test generators\n",
    "\n",
    "train_generator = train_datagen_preprocessed.flow_from_directory(\n",
    "    train_dir,\n",
    "    target_size=img_size,\n",
    "    batch_size=batch_size,\n",
    "    class_mode='binary')\n",
    "\n",
    "val_generator = val_datagen_preprocessed.flow_from_directory(\n",
    "    val_dir,\n",
    "    target_size=img_size,\n",
    "    batch_size=batch_size,\n",
    "    class_mode='binary')\n",
    "\n",
    "test_generator = test_datagen_preprocessed.flow_from_directory(\n",
    "    test_dir,\n",
    "    target_size=img_size,\n",
    "    batch_size=batch_size,\n",
    "    class_mode='binary')"
   ]
  },
  {
   "cell_type": "markdown",
   "id": "d42c607a",
   "metadata": {},
   "source": [
    "### Developing the model structure"
   ]
  },
  {
   "cell_type": "code",
   "execution_count": 113,
   "id": "9215a2f0",
   "metadata": {},
   "outputs": [
    {
     "name": "stdout",
     "output_type": "stream",
     "text": [
      "Model: \"sequential_10\"\n",
      "_________________________________________________________________\n",
      " Layer (type)                Output Shape              Param #   \n",
      "=================================================================\n",
      " inception_v3 (Functional)   (None, 1, 1, 2048)        21802784  \n",
      "                                                                 \n",
      " global_average_pooling2d_7  (None, 2048)              0         \n",
      "  (GlobalAveragePooling2D)                                       \n",
      "                                                                 \n",
      " dense_11 (Dense)            (None, 1)                 2049      \n",
      "                                                                 \n",
      "=================================================================\n",
      "Total params: 21804833 (83.18 MB)\n",
      "Trainable params: 2049 (8.00 KB)\n",
      "Non-trainable params: 21802784 (83.17 MB)\n",
      "_________________________________________________________________\n"
     ]
    }
   ],
   "source": [
    "basemodel_with_preprocessing = Sequential([\n",
    "    assignment_2_model,\n",
    "    global_average_layer,\n",
    "    Dense(1, activation='sigmoid')   \n",
    "])\n",
    "\n",
    "#Compile the model\n",
    "basemodel_with_preprocessing.compile(optimizer='adam', loss='binary_crossentropy', metrics=['accuracy'])\n",
    "\n",
    "#Print model summary\n",
    "basemodel_with_preprocessing.summary()"
   ]
  },
  {
   "cell_type": "markdown",
   "id": "e6b6a838",
   "metadata": {},
   "source": [
    "### Train the model"
   ]
  },
  {
   "cell_type": "code",
   "execution_count": 114,
   "id": "51bbf5f2",
   "metadata": {},
   "outputs": [
    {
     "name": "stdout",
     "output_type": "stream",
     "text": [
      "Epoch 1/10\n",
      "75/75 [==============================] - 18s 159ms/step - loss: 0.6206 - accuracy: 0.7150 - val_loss: 0.5711 - val_accuracy: 0.7533\n",
      "Epoch 2/10\n",
      "75/75 [==============================] - 11s 140ms/step - loss: 0.5505 - accuracy: 0.7600 - val_loss: 0.5369 - val_accuracy: 0.7833\n",
      "Epoch 3/10\n",
      "75/75 [==============================] - 11s 143ms/step - loss: 0.5357 - accuracy: 0.7629 - val_loss: 0.5229 - val_accuracy: 0.7900\n",
      "Epoch 4/10\n",
      "75/75 [==============================] - 11s 145ms/step - loss: 0.5181 - accuracy: 0.7708 - val_loss: 0.5131 - val_accuracy: 0.7900\n",
      "Epoch 5/10\n",
      "75/75 [==============================] - 11s 145ms/step - loss: 0.5072 - accuracy: 0.7771 - val_loss: 0.5030 - val_accuracy: 0.7933\n",
      "Epoch 6/10\n",
      "75/75 [==============================] - 11s 147ms/step - loss: 0.4953 - accuracy: 0.7858 - val_loss: 0.4946 - val_accuracy: 0.7933\n",
      "Epoch 7/10\n",
      "75/75 [==============================] - 11s 150ms/step - loss: 0.4886 - accuracy: 0.7887 - val_loss: 0.4868 - val_accuracy: 0.8000\n",
      "Epoch 8/10\n",
      "75/75 [==============================] - 11s 144ms/step - loss: 0.4800 - accuracy: 0.7942 - val_loss: 0.4795 - val_accuracy: 0.8000\n",
      "Epoch 9/10\n",
      "75/75 [==============================] - 11s 150ms/step - loss: 0.4681 - accuracy: 0.8037 - val_loss: 0.4718 - val_accuracy: 0.8067\n",
      "Epoch 10/10\n",
      "75/75 [==============================] - 11s 142ms/step - loss: 0.4626 - accuracy: 0.8021 - val_loss: 0.4647 - val_accuracy: 0.8067\n"
     ]
    },
    {
     "data": {
      "text/plain": [
       "<keras.src.callbacks.History at 0x1ae5949a5d0>"
      ]
     },
     "execution_count": 114,
     "metadata": {},
     "output_type": "execute_result"
    }
   ],
   "source": [
    "basemodel_with_preprocessing.fit(train_generator, epochs=10, validation_data=val_generator)"
   ]
  },
  {
   "cell_type": "markdown",
   "id": "a14296cc",
   "metadata": {},
   "source": [
    "### Test the performance accuracy of the model"
   ]
  },
  {
   "cell_type": "markdown",
   "id": "5781fb2f",
   "metadata": {},
   "source": [
    "#### Accuracy"
   ]
  },
  {
   "cell_type": "code",
   "execution_count": 115,
   "id": "d8bf57ac",
   "metadata": {},
   "outputs": [
    {
     "name": "stdout",
     "output_type": "stream",
     "text": [
      "10/10 [==============================] - 1s 104ms/step - loss: 0.4451 - accuracy: 0.8267\n",
      "Accuracy of basemodel after preprocessed, on test set: 82.67%\n"
     ]
    }
   ],
   "source": [
    "#Evaluate the model on the test set\n",
    "loss_basemodel_with_preprocessing, accuracy_basemodel_with_preprocessing = basemodel_with_preprocessing.evaluate(test_generator)\n",
    "\n",
    "#Print the accuracy\n",
    "print(f\"Accuracy of basemodel after preprocessed, on test set: {accuracy_basemodel_with_preprocessing * 100:.2f}%\")"
   ]
  },
  {
   "cell_type": "markdown",
   "id": "22213bf8",
   "metadata": {},
   "source": [
    "#### Confussion matrixes"
   ]
  },
  {
   "cell_type": "code",
   "execution_count": 116,
   "id": "db62b065",
   "metadata": {},
   "outputs": [
    {
     "name": "stdout",
     "output_type": "stream",
     "text": [
      "10/10 [==============================] - 3s 100ms/step\n"
     ]
    }
   ],
   "source": [
    "from sklearn.metrics import confusion_matrix\n",
    "import seaborn as sns\n",
    "import matplotlib.pyplot as plt\n",
    "\n",
    "predictions_basemodel_with_preprocessing_test = basemodel_with_preprocessing.predict(test_generator)\n",
    "y_true_test_basemodel_with_preprocessing = test_generator.classes\n",
    "\n",
    "#Convert probabilities to binary predictions\n",
    "y_pred_test_basemodel_with_preprocessing = (predictions_basemodel_with_preprocessing_test > 0.5).astype(int) "
   ]
  },
  {
   "cell_type": "code",
   "execution_count": 117,
   "id": "85584ede",
   "metadata": {},
   "outputs": [
    {
     "data": {
      "image/png": "[encoded data removed]",
      "text/plain": [
       "<Figure size 800x600 with 2 Axes>"
      ]
     },
     "metadata": {},
     "output_type": "display_data"
    }
   ],
   "source": [
    "#Compute confusion matrices\n",
    "conf_matrix_test = confusion_matrix(y_true_test_basemodel_with_preprocessing, y_pred_test_basemodel_with_preprocessing)\n",
    "\n",
    "#Illustrate confusion matrices\n",
    "plt.figure(figsize=(8, 6))\n",
    "sns.heatmap(conf_matrix_test, annot=True, fmt='d', cmap='Blues', xticklabels=['Dog', 'Rabbit'], yticklabels=['Dog', 'Rabbit'])\n",
    "plt.xlabel('Predicted labels')\n",
    "plt.ylabel('True labels')\n",
    "plt.title('Confusion Matrix - Test Set')\n",
    "plt.show()"
   ]
  },
  {
   "cell_type": "markdown",
   "id": "f072142c",
   "metadata": {},
   "source": [
    "## 2.Base model first variant"
   ]
  },
  {
   "cell_type": "markdown",
   "id": "0e68ba91",
   "metadata": {},
   "source": [
    "### Create data generators"
   ]
  },
  {
   "cell_type": "code",
   "execution_count": 118,
   "id": "a3382950",
   "metadata": {},
   "outputs": [],
   "source": [
    "#Create ImageDataGenerators with some data augmentations\n",
    "\n",
    "train_datagen_preprocessed = ImageDataGenerator(\n",
    "    rescale=1./255,             # Normalize pixel values to [0, 1]\n",
    "    horizontal_flip=True,       # Randomly flip images horizontally\n",
    ")\n",
    "\n",
    "val_datagen_preprocessed = ImageDataGenerator(rescale=1./255)\n",
    "test_datagen_preprocessed = ImageDataGenerator(rescale=1./255)"
   ]
  },
  {
   "cell_type": "code",
   "execution_count": 119,
   "id": "6590183c",
   "metadata": {},
   "outputs": [
    {
     "name": "stdout",
     "output_type": "stream",
     "text": [
      "Found 2400 images belonging to 2 classes.\n",
      "Found 300 images belonging to 2 classes.\n",
      "Found 300 images belonging to 2 classes.\n"
     ]
    }
   ],
   "source": [
    "#Create train, validation, and test generators\n",
    "\n",
    "train_generator = train_datagen_preprocessed.flow_from_directory(\n",
    "    train_dir,\n",
    "    target_size=img_size,\n",
    "    batch_size=batch_size,\n",
    "    class_mode='binary')\n",
    "\n",
    "val_generator = val_datagen_preprocessed.flow_from_directory(\n",
    "    val_dir,\n",
    "    target_size=img_size,\n",
    "    batch_size=batch_size,\n",
    "    class_mode='binary')\n",
    "\n",
    "test_generator = test_datagen_preprocessed.flow_from_directory(\n",
    "    test_dir,\n",
    "    target_size=img_size,\n",
    "    batch_size=batch_size,\n",
    "    class_mode='binary')"
   ]
  },
  {
   "cell_type": "markdown",
   "id": "9ab8074c",
   "metadata": {},
   "source": [
    "### Developing the model structure"
   ]
  },
  {
   "cell_type": "code",
   "execution_count": 120,
   "id": "91f21ed9",
   "metadata": {},
   "outputs": [
    {
     "name": "stdout",
     "output_type": "stream",
     "text": [
      "Model: \"sequential_11\"\n",
      "_________________________________________________________________\n",
      " Layer (type)                Output Shape              Param #   \n",
      "=================================================================\n",
      " inception_v3 (Functional)   (None, 1, 1, 2048)        21802784  \n",
      "                                                                 \n",
      " conv2d_32 (Conv2D)          (None, 1, 1, 64)          1179712   \n",
      "                                                                 \n",
      " conv2d_33 (Conv2D)          (None, 1, 1, 128)         73856     \n",
      "                                                                 \n",
      " conv2d_34 (Conv2D)          (None, 1, 1, 64)          73792     \n",
      "                                                                 \n",
      " conv2d_35 (Conv2D)          (None, 1, 1, 32)          18464     \n",
      "                                                                 \n",
      " global_average_pooling2d_8  (None, 32)                0         \n",
      "  (GlobalAveragePooling2D)                                       \n",
      "                                                                 \n",
      " dense_12 (Dense)            (None, 1)                 33        \n",
      "                                                                 \n",
      "=================================================================\n",
      "Total params: 23148641 (88.31 MB)\n",
      "Trainable params: 1345857 (5.13 MB)\n",
      "Non-trainable params: 21802784 (83.17 MB)\n",
      "_________________________________________________________________\n"
     ]
    }
   ],
   "source": [
    "from tensorflow.keras.layers import Conv2D, MaxPooling2D, Flatten\n",
    "\n",
    "variant_1_model = Sequential([\n",
    "    assignment_2_model,\n",
    "    Conv2D(64, (3, 3), activation='relu', padding='same'),\n",
    "    Conv2D(128, (3, 3), activation='relu', padding='same'),\n",
    "    Conv2D(64, (3, 3), activation='relu', padding='same'),\n",
    "    Conv2D(32, (3, 3), activation='relu', padding='same'),\n",
    "    GlobalAveragePooling2D(),\n",
    "    Dense(1, activation='sigmoid') \n",
    "])\n",
    "\n",
    "#Compile the model\n",
    "variant_1_model.compile(optimizer='adam', loss='binary_crossentropy', metrics=['accuracy'])\n",
    "\n",
    "#Print model summary\n",
    "variant_1_model.summary()"
   ]
  },
  {
   "cell_type": "markdown",
   "id": "9c646dc1",
   "metadata": {},
   "source": [
    "### Train the model"
   ]
  },
  {
   "cell_type": "code",
   "execution_count": 121,
   "id": "d7126acb",
   "metadata": {},
   "outputs": [
    {
     "name": "stdout",
     "output_type": "stream",
     "text": [
      "Epoch 1/10\n",
      "75/75 [==============================] - 20s 181ms/step - loss: 0.5928 - accuracy: 0.7029 - val_loss: 0.4935 - val_accuracy: 0.7667\n",
      "Epoch 2/10\n",
      "75/75 [==============================] - 12s 160ms/step - loss: 0.4284 - accuracy: 0.8108 - val_loss: 0.3348 - val_accuracy: 0.9000\n",
      "Epoch 3/10\n",
      "75/75 [==============================] - 12s 165ms/step - loss: 0.3108 - accuracy: 0.8679 - val_loss: 0.2848 - val_accuracy: 0.8867\n",
      "Epoch 4/10\n",
      "75/75 [==============================] - 14s 192ms/step - loss: 0.2562 - accuracy: 0.8958 - val_loss: 0.2875 - val_accuracy: 0.8833\n",
      "Epoch 5/10\n",
      "75/75 [==============================] - 14s 189ms/step - loss: 0.2478 - accuracy: 0.8904 - val_loss: 0.2316 - val_accuracy: 0.9067\n",
      "Epoch 6/10\n",
      "75/75 [==============================] - 14s 189ms/step - loss: 0.2276 - accuracy: 0.9067 - val_loss: 0.2379 - val_accuracy: 0.9000\n",
      "Epoch 7/10\n",
      "75/75 [==============================] - 15s 205ms/step - loss: 0.1963 - accuracy: 0.9208 - val_loss: 0.1912 - val_accuracy: 0.9100\n",
      "Epoch 8/10\n",
      "75/75 [==============================] - 13s 178ms/step - loss: 0.1832 - accuracy: 0.9300 - val_loss: 0.1926 - val_accuracy: 0.9200\n",
      "Epoch 9/10\n",
      "75/75 [==============================] - 15s 197ms/step - loss: 0.1748 - accuracy: 0.9300 - val_loss: 0.1348 - val_accuracy: 0.9533\n",
      "Epoch 10/10\n",
      "75/75 [==============================] - 12s 161ms/step - loss: 0.1516 - accuracy: 0.9388 - val_loss: 0.1279 - val_accuracy: 0.9500\n"
     ]
    },
    {
     "data": {
      "text/plain": [
       "<keras.src.callbacks.History at 0x1aea94625d0>"
      ]
     },
     "execution_count": 121,
     "metadata": {},
     "output_type": "execute_result"
    }
   ],
   "source": [
    "variant_1_model.fit(train_generator, epochs=10, validation_data=val_generator)"
   ]
  },
  {
   "cell_type": "markdown",
   "id": "ab6fda9f",
   "metadata": {},
   "source": [
    "### Test the performance accuracy of the model"
   ]
  },
  {
   "cell_type": "markdown",
   "id": "6b1a49f3",
   "metadata": {},
   "source": [
    "#### Accuracy"
   ]
  },
  {
   "cell_type": "code",
   "execution_count": 122,
   "id": "686e7383",
   "metadata": {},
   "outputs": [
    {
     "name": "stdout",
     "output_type": "stream",
     "text": [
      "10/10 [==============================] - 1s 106ms/step - loss: 0.1283 - accuracy: 0.9433\n",
      "Accuracy of variant 1 model on test set: 94.33%\n"
     ]
    }
   ],
   "source": [
    "#Evaluate the model on the test set\n",
    "loss_variant_1, accuracy_variant_1 = variant_1_model.evaluate(test_generator)\n",
    "\n",
    "#Print the accuracy\n",
    "print(f\"Accuracy of variant 1 model on test set: {accuracy_variant_1 * 100:.2f}%\")"
   ]
  },
  {
   "cell_type": "markdown",
   "id": "038e715e",
   "metadata": {},
   "source": [
    "#### Confussion matrixes"
   ]
  },
  {
   "cell_type": "code",
   "execution_count": 123,
   "id": "f23f11e6",
   "metadata": {},
   "outputs": [
    {
     "name": "stdout",
     "output_type": "stream",
     "text": [
      "10/10 [==============================] - 3s 140ms/step\n"
     ]
    }
   ],
   "source": [
    "from sklearn.metrics import confusion_matrix\n",
    "import seaborn as sns\n",
    "import matplotlib.pyplot as plt\n",
    "\n",
    "predictions_variant_1_test = variant_1_model.predict(test_generator)\n",
    "\n",
    "#Convert probabilities to binary predictions\n",
    "y_true_test_variant_1 = test_generator.classes\n",
    "y_pred_test_variant_1 = (predictions_variant_1_test > 0.5).astype(int)  "
   ]
  },
  {
   "cell_type": "code",
   "execution_count": 124,
   "id": "5ca1cea9",
   "metadata": {},
   "outputs": [
    {
     "data": {
      "image/png": "[encoded data removed]",
      "text/plain": [
       "<Figure size 800x600 with 2 Axes>"
      ]
     },
     "metadata": {},
     "output_type": "display_data"
    }
   ],
   "source": [
    "#Compute confusion matrices\n",
    "conf_matrix_test = confusion_matrix(y_true_test_variant_1, y_pred_test_variant_1)\n",
    "\n",
    "#Illustrate the confusion matrices\n",
    "plt.figure(figsize=(8, 6))\n",
    "sns.heatmap(conf_matrix_test, annot=True, fmt='d', cmap='Blues', xticklabels=['Dog', 'Rabbit'], yticklabels=['Dog', 'Rabbit'])\n",
    "plt.xlabel('Predicted labels')\n",
    "plt.ylabel('True labels')\n",
    "plt.title('Confusion Matrix - Test Set')\n",
    "plt.show()"
   ]
  },
  {
   "cell_type": "markdown",
   "id": "3349dd8f",
   "metadata": {},
   "source": [
    "## 3.Base model second variant"
   ]
  },
  {
   "cell_type": "markdown",
   "id": "30a2c1d2",
   "metadata": {},
   "source": [
    "### Create data generators"
   ]
  },
  {
   "cell_type": "code",
   "execution_count": 125,
   "id": "eea0af6e",
   "metadata": {},
   "outputs": [],
   "source": [
    "#Create ImageDataGenerators with some data augmentations\n",
    "\n",
    "train_datagen_preprocessed = ImageDataGenerator(\n",
    "    rescale=1./255,             # Normalize pixel values to [0, 1]\n",
    "    horizontal_flip=True,       # Randomly flip images horizontally\n",
    ")\n",
    "\n",
    "val_datagen_preprocessed = ImageDataGenerator(rescale=1./255)\n",
    "test_datagen_preprocessed = ImageDataGenerator(rescale=1./255)"
   ]
  },
  {
   "cell_type": "code",
   "execution_count": 126,
   "id": "b4e50388",
   "metadata": {},
   "outputs": [
    {
     "name": "stdout",
     "output_type": "stream",
     "text": [
      "Found 2400 images belonging to 2 classes.\n",
      "Found 300 images belonging to 2 classes.\n",
      "Found 300 images belonging to 2 classes.\n"
     ]
    }
   ],
   "source": [
    "#Create train, validation, and test generators\n",
    "\n",
    "train_generator = train_datagen_preprocessed.flow_from_directory(\n",
    "    train_dir,\n",
    "    target_size=img_size,\n",
    "    batch_size=batch_size,\n",
    "    class_mode='binary')\n",
    "\n",
    "val_generator = val_datagen_preprocessed.flow_from_directory(\n",
    "    val_dir,\n",
    "    target_size=img_size,\n",
    "    batch_size=batch_size,\n",
    "    class_mode='binary')\n",
    "\n",
    "test_generator = test_datagen_preprocessed.flow_from_directory(\n",
    "    test_dir,\n",
    "    target_size=img_size,\n",
    "    batch_size=batch_size,\n",
    "    class_mode='binary')"
   ]
  },
  {
   "cell_type": "markdown",
   "id": "c8cb3749",
   "metadata": {},
   "source": [
    "### Developing the model structure"
   ]
  },
  {
   "cell_type": "code",
   "execution_count": 127,
   "id": "f1c968bd",
   "metadata": {},
   "outputs": [
    {
     "name": "stdout",
     "output_type": "stream",
     "text": [
      "Model: \"sequential_12\"\n",
      "_________________________________________________________________\n",
      " Layer (type)                Output Shape              Param #   \n",
      "=================================================================\n",
      " inception_v3 (Functional)   (None, 1, 1, 2048)        21802784  \n",
      "                                                                 \n",
      " conv2d_36 (Conv2D)          (None, 1, 1, 64)          1179712   \n",
      "                                                                 \n",
      " conv2d_37 (Conv2D)          (None, 1, 1, 64)          36928     \n",
      "                                                                 \n",
      " dropout_12 (Dropout)        (None, 1, 1, 64)          0         \n",
      "                                                                 \n",
      " conv2d_38 (Conv2D)          (None, 1, 1, 128)         73856     \n",
      "                                                                 \n",
      " conv2d_39 (Conv2D)          (None, 1, 1, 128)         147584    \n",
      "                                                                 \n",
      " dropout_13 (Dropout)        (None, 1, 1, 128)         0         \n",
      "                                                                 \n",
      " conv2d_40 (Conv2D)          (None, 1, 1, 256)         295168    \n",
      "                                                                 \n",
      " conv2d_41 (Conv2D)          (None, 1, 1, 256)         590080    \n",
      "                                                                 \n",
      " dropout_14 (Dropout)        (None, 1, 1, 256)         0         \n",
      "                                                                 \n",
      " global_average_pooling2d_9  (None, 256)               0         \n",
      "  (GlobalAveragePooling2D)                                       \n",
      "                                                                 \n",
      " dense_13 (Dense)            (None, 1)                 257       \n",
      "                                                                 \n",
      "=================================================================\n",
      "Total params: 24126369 (92.03 MB)\n",
      "Trainable params: 2323585 (8.86 MB)\n",
      "Non-trainable params: 21802784 (83.17 MB)\n",
      "_________________________________________________________________\n"
     ]
    }
   ],
   "source": [
    "from tensorflow.keras.layers import Dropout\n",
    "\n",
    "variant_2_model = Sequential([\n",
    "    assignment_2_model,\n",
    "    Conv2D(64, (3, 3), activation='relu', padding='same'),\n",
    "    Conv2D(64, (3, 3), activation='relu', padding='same'),\n",
    "    Dropout(0.25),\n",
    "    Conv2D(128, (3, 3), activation='relu', padding='same'),\n",
    "    Conv2D(128, (3, 3), activation='relu', padding='same'),\n",
    "    Dropout(0.25),\n",
    "    Conv2D(256, (3, 3), activation='relu', padding='same'),\n",
    "    Conv2D(256, (3, 3), activation='relu', padding='same'),\n",
    "    Dropout(0.25),\n",
    "    GlobalAveragePooling2D(),\n",
    "    Dense(1, activation='sigmoid') \n",
    "])\n",
    "\n",
    "#Compile the model\n",
    "variant_2_model.compile(optimizer='adam', loss='binary_crossentropy', metrics=['accuracy'])\n",
    "\n",
    "#Print model summary\n",
    "variant_2_model.summary()"
   ]
  },
  {
   "cell_type": "markdown",
   "id": "b1ec6ec6",
   "metadata": {},
   "source": [
    "### Train the model"
   ]
  },
  {
   "cell_type": "code",
   "execution_count": 128,
   "id": "4f538c07",
   "metadata": {},
   "outputs": [
    {
     "name": "stdout",
     "output_type": "stream",
     "text": [
      "Epoch 1/10\n",
      "75/75 [==============================] - 25s 238ms/step - loss: 0.6189 - accuracy: 0.6400 - val_loss: 0.4949 - val_accuracy: 0.7600\n",
      "Epoch 2/10\n",
      "75/75 [==============================] - 15s 205ms/step - loss: 0.4551 - accuracy: 0.8021 - val_loss: 0.3180 - val_accuracy: 0.8833\n",
      "Epoch 3/10\n",
      "75/75 [==============================] - 14s 185ms/step - loss: 0.3212 - accuracy: 0.8675 - val_loss: 0.2944 - val_accuracy: 0.8867\n",
      "Epoch 4/10\n",
      "75/75 [==============================] - 17s 228ms/step - loss: 0.2620 - accuracy: 0.9000 - val_loss: 0.2367 - val_accuracy: 0.9167\n",
      "Epoch 5/10\n",
      "75/75 [==============================] - 17s 231ms/step - loss: 0.2734 - accuracy: 0.8888 - val_loss: 0.2193 - val_accuracy: 0.9200\n",
      "Epoch 6/10\n",
      "75/75 [==============================] - 16s 217ms/step - loss: 0.2419 - accuracy: 0.9013 - val_loss: 0.1854 - val_accuracy: 0.9500\n",
      "Epoch 7/10\n",
      "75/75 [==============================] - 16s 207ms/step - loss: 0.2147 - accuracy: 0.9129 - val_loss: 0.1605 - val_accuracy: 0.9400\n",
      "Epoch 8/10\n",
      "75/75 [==============================] - 14s 188ms/step - loss: 0.1843 - accuracy: 0.9292 - val_loss: 0.1652 - val_accuracy: 0.9133\n",
      "Epoch 9/10\n",
      "75/75 [==============================] - 17s 226ms/step - loss: 0.1776 - accuracy: 0.9296 - val_loss: 0.1571 - val_accuracy: 0.9367\n",
      "Epoch 10/10\n",
      "75/75 [==============================] - 16s 216ms/step - loss: 0.1632 - accuracy: 0.9317 - val_loss: 0.1313 - val_accuracy: 0.9600\n"
     ]
    },
    {
     "data": {
      "text/plain": [
       "<keras.src.callbacks.History at 0x1aeaf3bd710>"
      ]
     },
     "execution_count": 128,
     "metadata": {},
     "output_type": "execute_result"
    }
   ],
   "source": [
    "variant_2_model.fit(train_generator, epochs=10, validation_data=val_generator)"
   ]
  },
  {
   "cell_type": "markdown",
   "id": "eb37b573",
   "metadata": {},
   "source": [
    "### Test the performance accuracy of the model"
   ]
  },
  {
   "cell_type": "markdown",
   "id": "ad1f0a9e",
   "metadata": {},
   "source": [
    "#### Accuracy"
   ]
  },
  {
   "cell_type": "code",
   "execution_count": 129,
   "id": "90cf32de",
   "metadata": {},
   "outputs": [
    {
     "name": "stdout",
     "output_type": "stream",
     "text": [
      "10/10 [==============================] - 2s 154ms/step - loss: 0.1524 - accuracy: 0.9300\n",
      "Accuracy of variant 2 model on test set: 93.00%\n"
     ]
    }
   ],
   "source": [
    "#Evaluate the model on the test set\n",
    "loss_variant_2, accuracy_variant_2 = variant_2_model.evaluate(test_generator)\n",
    "\n",
    "#Print the accuracy\n",
    "print(f\"Accuracy of variant 2 model on test set: {accuracy_variant_2 * 100:.2f}%\")"
   ]
  },
  {
   "cell_type": "markdown",
   "id": "2942f1ad",
   "metadata": {},
   "source": [
    "#### Confussion matrixes"
   ]
  },
  {
   "cell_type": "code",
   "execution_count": 130,
   "id": "60e76c64",
   "metadata": {},
   "outputs": [
    {
     "name": "stdout",
     "output_type": "stream",
     "text": [
      "10/10 [==============================] - 3s 110ms/step\n"
     ]
    }
   ],
   "source": [
    "from sklearn.metrics import confusion_matrix\n",
    "import seaborn as sns\n",
    "import matplotlib.pyplot as plt\n",
    "\n",
    "predictions_variant_2_test = variant_2_model.predict(test_generator)\n",
    "\n",
    "#Convert probabilities to binary predictions\n",
    "y_true_test_variant_2 = test_generator.classes\n",
    "y_pred_test_variant_2 = (predictions_variant_2_test > 0.5).astype(int)  "
   ]
  },
  {
   "cell_type": "code",
   "execution_count": 131,
   "id": "a06d925f",
   "metadata": {
    "scrolled": true
   },
   "outputs": [
    {
     "data": {
      "image/png": "[encoded data removed]",
      "text/plain": [
       "<Figure size 800x600 with 2 Axes>"
      ]
     },
     "metadata": {},
     "output_type": "display_data"
    }
   ],
   "source": [
    "#Compute confusion matrices\n",
    "conf_matrix_test = confusion_matrix(y_true_test_variant_2, y_pred_test_variant_2)\n",
    "\n",
    "#Illustrate confusion matrices\n",
    "plt.figure(figsize=(8, 6))\n",
    "sns.heatmap(conf_matrix_test, annot=True, fmt='d', cmap='Blues', xticklabels=['Dog', 'Rabbit'], yticklabels=['Dog', 'Rabbit'])\n",
    "plt.xlabel('Predicted labels')\n",
    "plt.ylabel('True labels')\n",
    "plt.title('Confusion Matrix - Test Set')\n",
    "plt.show()"
   ]
  },
  {
   "cell_type": "markdown",
   "id": "78e5b659",
   "metadata": {},
   "source": [
    "## 4.Another pre-trained model "
   ]
  },
  {
   "cell_type": "markdown",
   "id": "33cef573",
   "metadata": {},
   "source": [
    "### Create data generators"
   ]
  },
  {
   "cell_type": "code",
   "execution_count": 132,
   "id": "c5f48b9d",
   "metadata": {},
   "outputs": [],
   "source": [
    "#Create ImageDataGenerators with some data augmentations\n",
    "\n",
    "train_datagen = ImageDataGenerator(\n",
    "    rescale=1./255,  #Rescale pixel values to [0, 1]\n",
    "    rotation_range=40,  #Randomly rotate images by up to 40 degrees\n",
    "    width_shift_range=0.2,  #Randomly shift images horizontally by up to 20% of the width\n",
    "    height_shift_range=0.2,  #Randomly shift images vertically by up to 20% of the height\n",
    "    shear_range=0.2,  #Shear intensity (angle in counter-clockwise direction in degrees)\n",
    "    zoom_range=0.2,  #Randomly zoom images by up to 20%\n",
    "    horizontal_flip=True,  #Randomly flip images horizontally\n",
    "    fill_mode='nearest'  #Strategy used for filling in newly created pixels\n",
    ")\n",
    "\n",
    "val_datagen = ImageDataGenerator(rescale=1./255)\n",
    "test_datagen = ImageDataGenerator(rescale=1./255)"
   ]
  },
  {
   "cell_type": "code",
   "execution_count": 133,
   "id": "79aa3486",
   "metadata": {},
   "outputs": [
    {
     "name": "stdout",
     "output_type": "stream",
     "text": [
      "Found 2400 images belonging to 2 classes.\n",
      "Found 300 images belonging to 2 classes.\n",
      "Found 300 images belonging to 2 classes.\n"
     ]
    }
   ],
   "source": [
    "img_size = (75, 75)\n",
    "\n",
    "#Create train, validation, and test generators\n",
    "\n",
    "train_generator = train_datagen_preprocessed.flow_from_directory(\n",
    "    train_dir,\n",
    "    target_size=img_size,\n",
    "    batch_size=batch_size,\n",
    "    class_mode='binary')\n",
    "\n",
    "val_generator = val_datagen_preprocessed.flow_from_directory(\n",
    "    val_dir,\n",
    "    target_size=img_size,\n",
    "    batch_size=batch_size,\n",
    "    class_mode='binary')\n",
    "\n",
    "test_generator = test_datagen_preprocessed.flow_from_directory(\n",
    "    test_dir,\n",
    "    target_size=img_size,\n",
    "    batch_size=batch_size,\n",
    "    class_mode='binary')"
   ]
  },
  {
   "cell_type": "markdown",
   "id": "8b639cb6",
   "metadata": {},
   "source": [
    "### Developing the model structure"
   ]
  },
  {
   "cell_type": "markdown",
   "id": "61af3526",
   "metadata": {},
   "source": [
    "#### Importing the tranfer learning(MobileNetV2)"
   ]
  },
  {
   "cell_type": "code",
   "execution_count": 134,
   "id": "77f3857d",
   "metadata": {},
   "outputs": [],
   "source": [
    "from tensorflow.keras.applications import VGG16\n",
    "\n",
    "# Load the VGG16 model pretrained on ImageNet data\n",
    "base_vgg16 = VGG16(weights='imagenet', include_top=False, input_shape=(75, 75, 3))"
   ]
  },
  {
   "cell_type": "markdown",
   "id": "1bc93e94",
   "metadata": {},
   "source": [
    "#### Un-freeze the top layers of the model"
   ]
  },
  {
   "cell_type": "code",
   "execution_count": 135,
   "id": "7d5a3045",
   "metadata": {},
   "outputs": [
    {
     "name": "stdout",
     "output_type": "stream",
     "text": [
      "Number of layers in the base model:  19\n"
     ]
    }
   ],
   "source": [
    "#Unfreeze the convolutional base\n",
    "base_vgg16.trainable = True\n",
    "\n",
    "#Check how many layers are in the base model\n",
    "print(\"Number of layers in the base model: \", len(base_vgg16.layers))"
   ]
  },
  {
   "cell_type": "code",
   "execution_count": 136,
   "id": "b921183e",
   "metadata": {},
   "outputs": [],
   "source": [
    "#Fine-tune from this layer onwards\n",
    "fine_tune_at = 17\n",
    "\n",
    "#Freeze all the layers before the `fine_tune_at` layer\n",
    "for layer in base_vgg16.layers[:fine_tune_at]:\n",
    "  layer.trainable = False"
   ]
  },
  {
   "cell_type": "code",
   "execution_count": 137,
   "id": "5b126ad2",
   "metadata": {},
   "outputs": [
    {
     "name": "stdout",
     "output_type": "stream",
     "text": [
      "Model: \"sequential_13\"\n",
      "_________________________________________________________________\n",
      " Layer (type)                Output Shape              Param #   \n",
      "=================================================================\n",
      " vgg16 (Functional)          (None, 2, 2, 512)         14714688  \n",
      "                                                                 \n",
      " global_average_pooling2d_7  multiple                  0         \n",
      "  (GlobalAveragePooling2D)                                       \n",
      "                                                                 \n",
      " dense_14 (Dense)            (None, 128)               65664     \n",
      "                                                                 \n",
      " dense_15 (Dense)            (None, 1)                 129       \n",
      "                                                                 \n",
      "=================================================================\n",
      "Total params: 14780481 (56.38 MB)\n",
      "Trainable params: 2425601 (9.25 MB)\n",
      "Non-trainable params: 12354880 (47.13 MB)\n",
      "_________________________________________________________________\n"
     ]
    }
   ],
   "source": [
    "vgg16_model = Sequential([\n",
    "    base_vgg16,\n",
    "    global_average_layer,\n",
    "    Dense(128, activation='relu'),\n",
    "    Dense(1, activation='sigmoid')\n",
    "])\n",
    "\n",
    "vgg16_model.compile(optimizer='adam', loss='binary_crossentropy', metrics=['accuracy'])\n",
    "\n",
    "vgg16_model.summary()"
   ]
  },
  {
   "cell_type": "markdown",
   "id": "248843be",
   "metadata": {},
   "source": [
    "### Train the model"
   ]
  },
  {
   "cell_type": "code",
   "execution_count": 138,
   "id": "d88613d3",
   "metadata": {},
   "outputs": [
    {
     "name": "stdout",
     "output_type": "stream",
     "text": [
      "Epoch 1/5\n",
      "75/75 [==============================] - 57s 744ms/step - loss: 0.0482 - accuracy: 0.9829 - val_loss: 0.0021 - val_accuracy: 1.0000\n",
      "Epoch 2/5\n",
      "75/75 [==============================] - 47s 633ms/step - loss: 2.0389e-04 - accuracy: 1.0000 - val_loss: 6.4659e-05 - val_accuracy: 1.0000\n",
      "Epoch 3/5\n",
      "75/75 [==============================] - 56s 755ms/step - loss: 3.2523e-05 - accuracy: 1.0000 - val_loss: 6.5002e-05 - val_accuracy: 1.0000\n",
      "Epoch 4/5\n",
      "75/75 [==============================] - 55s 739ms/step - loss: 1.0401e-05 - accuracy: 1.0000 - val_loss: 2.2776e-05 - val_accuracy: 1.0000\n",
      "Epoch 5/5\n",
      "75/75 [==============================] - 54s 719ms/step - loss: 5.7874e-06 - accuracy: 1.0000 - val_loss: 1.5322e-05 - val_accuracy: 1.0000\n"
     ]
    },
    {
     "data": {
      "text/plain": [
       "<keras.src.callbacks.History at 0x1ae1686f890>"
      ]
     },
     "execution_count": 138,
     "metadata": {},
     "output_type": "execute_result"
    }
   ],
   "source": [
    "vgg16_model.fit(train_generator, epochs=5, validation_data=val_generator)"
   ]
  },
  {
   "cell_type": "markdown",
   "id": "87847db6",
   "metadata": {},
   "source": [
    "### Test the performance accuracy of the model"
   ]
  },
  {
   "cell_type": "markdown",
   "id": "7a78b830",
   "metadata": {},
   "source": [
    "#### Accuracy"
   ]
  },
  {
   "cell_type": "code",
   "execution_count": 139,
   "id": "0e19195c",
   "metadata": {},
   "outputs": [
    {
     "name": "stdout",
     "output_type": "stream",
     "text": [
      "10/10 [==============================] - 6s 578ms/step - loss: 7.0089e-06 - accuracy: 1.0000\n",
      "Accuracy of mobilenet_model on test set: 100.00%\n"
     ]
    }
   ],
   "source": [
    "#Evaluate the model on the test set\n",
    "loss_vgg16_model, accuracy_vgg16_model = vgg16_model.evaluate(test_generator)\n",
    "\n",
    "#Print the accuracy\n",
    "print(f\"Accuracy of mobilenet_model on test set: {accuracy_vgg16_model * 100:.2f}%\")"
   ]
  },
  {
   "cell_type": "markdown",
   "id": "64e27e7b",
   "metadata": {},
   "source": [
    "#### Confussion matrixes"
   ]
  },
  {
   "cell_type": "code",
   "execution_count": 140,
   "id": "5632d4be",
   "metadata": {},
   "outputs": [
    {
     "name": "stdout",
     "output_type": "stream",
     "text": [
      "10/10 [==============================] - 6s 634ms/step\n"
     ]
    }
   ],
   "source": [
    "from sklearn.metrics import confusion_matrix\n",
    "import seaborn as sns\n",
    "import matplotlib.pyplot as plt\n",
    "\n",
    "predictions_vgg16_model_test = vgg16_model.predict(test_generator)\n",
    "\n",
    "#Convert probabilities to binary predictions\n",
    "y_true_test_vgg16_model = test_generator.classes\n",
    "y_pred_test_vgg16_model = (predictions_vgg16_model_test > 0.5).astype(int)  "
   ]
  },
  {
   "cell_type": "code",
   "execution_count": 141,
   "id": "d7f5b9a4",
   "metadata": {},
   "outputs": [
    {
     "data": {
      "image/png": "[encoded data removed]",
      "text/plain": [
       "<Figure size 800x600 with 2 Axes>"
      ]
     },
     "metadata": {},
     "output_type": "display_data"
    }
   ],
   "source": [
    "#Compute confusion matrices\n",
    "conf_matrix_test = confusion_matrix(y_true_test_vgg16_model, y_pred_test_vgg16_model)\n",
    "\n",
    "#Illustrate confusion matrices\n",
    "plt.figure(figsize=(8, 6))\n",
    "sns.heatmap(conf_matrix_test, annot=True, fmt='d', cmap='Blues', xticklabels=['Dog', 'Rabbit'], yticklabels=['Dog', 'Rabbit'])\n",
    "plt.xlabel('Predicted labels')\n",
    "plt.ylabel('True labels')\n",
    "plt.title('Confusion Matrix - Test Set')\n",
    "plt.show()"
   ]
  },
  {
   "cell_type": "markdown",
   "id": "35afa037",
   "metadata": {},
   "source": [
    "# Model Comparison "
   ]
  },
  {
   "cell_type": "markdown",
   "id": "b9d74213",
   "metadata": {},
   "source": [
    "## Accuracy, Precision, Recall and F1-score"
   ]
  },
  {
   "cell_type": "markdown",
   "id": "10403d7a",
   "metadata": {},
   "source": [
    "### Calculate values"
   ]
  },
  {
   "cell_type": "code",
   "execution_count": 142,
   "id": "80128204",
   "metadata": {},
   "outputs": [],
   "source": [
    "from sklearn.metrics import precision_score, recall_score, f1_score, roc_auc_score, confusion_matrix\n",
    "import pandas as pd"
   ]
  },
  {
   "cell_type": "code",
   "execution_count": 181,
   "id": "6d8a921a",
   "metadata": {},
   "outputs": [
    {
     "name": "stdout",
     "output_type": "stream",
     "text": [
      "Model: Base Model\n",
      "Accuracy: 0.8066666722297668\n",
      "Precision: 0.49264705882352944\n",
      "Recall: 0.44666666666666666\n",
      "F1-score: 0.46853146853146854\n",
      "\n",
      "Model: Base Model with Preprocessing\n",
      "Accuracy: 0.8266666531562805\n",
      "Precision: 0.5070422535211268\n",
      "Recall: 0.48\n",
      "F1-score: 0.4931506849315068\n",
      "\n",
      "Model: Variant 1\n",
      "Accuracy: 0.9433333277702332\n",
      "Precision: 0.5220125786163522\n",
      "Recall: 0.5533333333333333\n",
      "F1-score: 0.5372168284789643\n",
      "\n",
      "Model: Variant 2\n",
      "Accuracy: 0.9300000071525574\n",
      "Precision: 0.559748427672956\n",
      "Recall: 0.5933333333333334\n",
      "F1-score: 0.5760517799352751\n",
      "\n",
      "Model: VGG16 Model\n",
      "Accuracy: 1.0\n",
      "Precision: 0.4866666666666667\n",
      "Recall: 0.4866666666666667\n",
      "F1-score: 0.4866666666666667\n",
      "\n"
     ]
    }
   ],
   "source": [
    "#Define models and corresponding data\n",
    "models = [\"Base Model\", \"Base Model with Preprocessing\", \"Variant 1\", \"Variant 2\", \"VGG16 Model\"]\n",
    "accuracy_scores = [accuracy_basemodel, accuracy_basemodel_with_preprocessing, accuracy_variant_1, accuracy_variant_2, accuracy_vgg16_model]\n",
    "y_true_list = [y_true_test_basemodel, y_true_test_basemodel_with_preprocessing, y_true_test_variant_1, y_true_test_variant_2, y_true_test_vgg16_model]\n",
    "y_pred_list = [y_pred_test_basemodel, y_pred_test_basemodel_with_preprocessing, y_pred_test_variant_1, y_pred_test_variant_2, y_pred_test_vgg16_model]\n",
    "\n",
    "all_metrics = {}\n",
    "\n",
    "for model, y_true, y_pred, accuracy in zip(models, y_true_list, y_pred_list, accuracy_scores):\n",
    "    precision = precision_score(y_true, y_pred)\n",
    "    recall = recall_score(y_true, y_pred)\n",
    "    f1 = f1_score(y_true, y_pred)\n",
    "\n",
    "    all_metrics[model] = {\n",
    "        'Accuracy': accuracy,\n",
    "        'Precision': precision,\n",
    "        'Recall': recall,\n",
    "        'F1-score': f1,\n",
    "    }\n",
    "\n",
    "#Print metrics values\n",
    "for model, metrics in all_metrics.items():\n",
    "    print(f\"Model: {model}\")\n",
    "    for metric, score in metrics.items():\n",
    "        print(f\"{metric}: {score}\")\n",
    "    print()"
   ]
  },
  {
   "cell_type": "markdown",
   "id": "bcbccad2",
   "metadata": {},
   "source": [
    "### Compare values"
   ]
  },
  {
   "cell_type": "code",
   "execution_count": 182,
   "id": "d33c899a",
   "metadata": {},
   "outputs": [
    {
     "name": "stdout",
     "output_type": "stream",
     "text": [
      "Best Accuracy: 1.0 Model: VGG16 Model\n",
      "Best Precision: 0.559748427672956 Model: Variant 2\n",
      "Best Recall: 0.5933333333333334 Model: Variant 2\n",
      "Best F1-score: 0.5760517799352751 Model: Variant 2\n"
     ]
    }
   ],
   "source": [
    "#Initialize variables to store the best metrics and corresponding model\n",
    "best_accuracy = 0\n",
    "best_precision = 0\n",
    "best_recall = 0\n",
    "best_f1_score = 0\n",
    "best_model_accuracy = \"\"\n",
    "best_model_precision = \"\"\n",
    "best_model_recall = \"\"\n",
    "best_model_f1_score = \"\"\n",
    "\n",
    "for model, metrics in all_metrics.items():\n",
    "    accuracy = metrics['Accuracy']\n",
    "    precision = metrics['Precision']\n",
    "    recall = metrics['Recall']\n",
    "    f1 = metrics['F1-score']\n",
    "    \n",
    "    #Update best accuracy and model\n",
    "    if accuracy > best_accuracy:\n",
    "        best_accuracy = accuracy\n",
    "        best_model_accuracy = model\n",
    "    \n",
    "    #Update best precision and model\n",
    "    if precision > best_precision:\n",
    "        best_precision = precision\n",
    "        best_model_precision = model\n",
    "    \n",
    "    #Update best recall and model\n",
    "    if recall > best_recall:\n",
    "        best_recall = recall\n",
    "        best_model_recall = model\n",
    "    \n",
    "    #Update best F1-score and model\n",
    "    if f1 > best_f1_score:\n",
    "        best_f1_score = f1\n",
    "        best_model_f1_score = model\n",
    "\n",
    "#Print the best metrics and corresponding model\n",
    "print(f\"Best Accuracy: {best_accuracy} Model: {best_model_accuracy}\")\n",
    "print(f\"Best Precision: {best_precision} Model: {best_model_precision}\")\n",
    "print(f\"Best Recall: {best_recall} Model: {best_model_recall}\")\n",
    "print(f\"Best F1-score: {best_f1_score} Model: {best_model_f1_score}\")"
   ]
  },
  {
   "cell_type": "markdown",
   "id": "f57ba3f1",
   "metadata": {},
   "source": [
    "## AU-ROC"
   ]
  },
  {
   "cell_type": "markdown",
   "id": "659ecbe6",
   "metadata": {},
   "source": [
    "### Calculate values"
   ]
  },
  {
   "cell_type": "code",
   "execution_count": 183,
   "id": "95e5d5d1",
   "metadata": {},
   "outputs": [
    {
     "name": "stdout",
     "output_type": "stream",
     "text": [
      "AUROC values:\n",
      "Base Model: 0.4933333333333334\n",
      "Base Model with Preprocessing: 0.5066666666666667\n",
      "Variant 1: 0.5233333333333332\n",
      "Variant 2: 0.5633333333333334\n",
      "VGG16 Model: 0.4866666666666667\n"
     ]
    }
   ],
   "source": [
    "auroc_values = {}\n",
    "\n",
    "for model, metrics in all_metrics.items():\n",
    "    y_true = y_true_list[models.index(model)]\n",
    "    y_pred = y_pred_list[models.index(model)]\n",
    "    auroc = roc_auc_score(y_true, y_pred)\n",
    "    auroc_values[model] = auroc\n",
    "\n",
    "#Print AUROC values for each model\n",
    "print(\"AUROC values:\")\n",
    "for model, auroc in auroc_values.items():\n",
    "    print(f\"{model}: {auroc}\")"
   ]
  },
  {
   "cell_type": "markdown",
   "id": "79618916",
   "metadata": {},
   "source": [
    "### Visualize values"
   ]
  },
  {
   "cell_type": "code",
   "execution_count": 184,
   "id": "33a5146b",
   "metadata": {},
   "outputs": [],
   "source": [
    "import matplotlib.pyplot as plt\n",
    "from sklearn.metrics import roc_curve"
   ]
  },
  {
   "cell_type": "code",
   "execution_count": 185,
   "id": "92faa279",
   "metadata": {},
   "outputs": [
    {
     "data": {
      "image/png": "[encoded data removed]",
      "text/plain": [
       "<Figure size 1000x600 with 1 Axes>"
      ]
     },
     "metadata": {},
     "output_type": "display_data"
    }
   ],
   "source": [
    "#Plot AUROC curve for each model\n",
    "plt.figure(figsize=(10, 6))\n",
    "for model, (y_true, y_pred) in zip(models, zip(y_true_list, y_pred_list)):\n",
    "    fpr, tpr, _ = roc_curve(y_true, y_pred)\n",
    "    plt.plot(fpr, tpr, label=f'{model} (AUROC = {auroc_values[model]:.2f})')\n",
    "\n",
    "#Plot ROC curve for random classifier for comparison\n",
    "plt.plot([0, 1], [0, 1], color='gray', linestyle='--')\n",
    "\n",
    "plt.xlabel('False Positive Rate')\n",
    "plt.ylabel('True Positive Rate')\n",
    "plt.title('ROC Curve for Different Models')\n",
    "plt.legend()\n",
    "plt.grid(True)\n",
    "plt.show()"
   ]
  }
 ],
 "metadata": {
  "kernelspec": {
   "display_name": "Python 3 (ipykernel)",
   "language": "python",
   "name": "python3"
  },
  "language_info": {
   "codemirror_mode": {
    "name": "ipython",
    "version": 3
   },
   "file_extension": ".py",
   "mimetype": "text/x-python",
   "name": "python",
   "nbconvert_exporter": "python",
   "pygments_lexer": "ipython3",
   "version": "3.11.5"
  }
 },
 "nbformat": 4,
 "nbformat_minor": 5
}
